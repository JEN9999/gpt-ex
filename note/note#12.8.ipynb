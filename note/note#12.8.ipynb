{
 "cells": [
  {
   "cell_type": "code",
   "execution_count": 2,
   "metadata": {},
   "outputs": [
    {
     "ename": "NameError",
     "evalue": "name 'toolkit' is not defined",
     "output_type": "error",
     "traceback": [
      "\u001b[1;31m---------------------------------------------------------------------------\u001b[0m",
      "\u001b[1;31mNameError\u001b[0m                                 Traceback (most recent call last)",
      "Cell \u001b[1;32mIn[2], line 14\u001b[0m\n\u001b[0;32m      6\u001b[0m llm \u001b[38;5;241m=\u001b[39m ChatOpenAI(\n\u001b[0;32m      7\u001b[0m     temperature\u001b[38;5;241m=\u001b[39m\u001b[38;5;241m0.1\u001b[39m,\n\u001b[0;32m      8\u001b[0m )\n\u001b[0;32m      9\u001b[0m db \u001b[38;5;241m=\u001b[39m SQLDatabase\u001b[38;5;241m.\u001b[39mfrom_uri(\u001b[38;5;124m\"\u001b[39m\u001b[38;5;124msqlite:///movies.sqlite\u001b[39m\u001b[38;5;124m\"\u001b[39m)\n\u001b[0;32m     12\u001b[0m agent \u001b[38;5;241m=\u001b[39m create_sql_agent(\n\u001b[0;32m     13\u001b[0m     llm\u001b[38;5;241m=\u001b[39mllm,\n\u001b[1;32m---> 14\u001b[0m     toolkit\u001b[38;5;241m=\u001b[39m\u001b[43mtoolkit\u001b[49m,\n\u001b[0;32m     15\u001b[0m     agent_type\u001b[38;5;241m=\u001b[39mAgentType\u001b[38;5;241m.\u001b[39mOPENAI_FUNCTIONS,\n\u001b[0;32m     16\u001b[0m     verbose\u001b[38;5;241m=\u001b[39m\u001b[38;5;28;01mTrue\u001b[39;00m,\n\u001b[0;32m     17\u001b[0m )\n\u001b[0;32m     19\u001b[0m agent\u001b[38;5;241m.\u001b[39minvoke(\n\u001b[0;32m     20\u001b[0m     \u001b[38;5;124m\"\u001b[39m\u001b[38;5;124mGive me the movies that have the highest votes but the lowest budgets and give me the name of their directors also include their gross revenue.\u001b[39m\u001b[38;5;124m\"\u001b[39m\n\u001b[0;32m     21\u001b[0m )\n",
      "\u001b[1;31mNameError\u001b[0m: name 'toolkit' is not defined"
     ]
    }
   ],
   "source": [
    "from langchain.agents import create_sql_agent, AgentType\n",
    "from langchain.chat_models import ChatOpenAI\n",
    "from langchain.agents.agent_toolkits import SQLDatabaseToolkit\n",
    "from langchain.sql_database import SQLDatabase\n",
    "\n",
    "llm = ChatOpenAI(\n",
    "    temperature=0.1,\n",
    ")\n",
    "db = SQLDatabase.from_uri(\"sqlite:///movies.sqlite\")\n",
    "\n",
    "toolkit = SQLDatabaseToolkit(db=db, llm=llm)\n",
    "\n",
    "\n",
    "agent = create_sql_agent(\n",
    "    llm=llm,\n",
    "    toolkit=toolkit,\n",
    "    agent_type=AgentType.OPENAI_FUNCTIONS,\n",
    "    verbose=True,\n",
    ")\n",
    "\n",
    "agent.invoke(\n",
    "    \"Give me the movies that have the highest votes but the lowest budgets and give me the name of their directors also include their gross revenue.\"\n",
    ")\n"
   ]
  }
 ],
 "metadata": {
  "kernelspec": {
   "display_name": "env",
   "language": "python",
   "name": "python3"
  },
  "language_info": {
   "codemirror_mode": {
    "name": "ipython",
    "version": 3
   },
   "file_extension": ".py",
   "mimetype": "text/x-python",
   "name": "python",
   "nbconvert_exporter": "python",
   "pygments_lexer": "ipython3",
   "version": "3.11.6"
  }
 },
 "nbformat": 4,
 "nbformat_minor": 2
}
