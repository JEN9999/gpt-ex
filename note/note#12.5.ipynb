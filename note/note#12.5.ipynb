{
 "cells": [
  {
   "cell_type": "code",
   "execution_count": 1,
   "metadata": {},
   "outputs": [
    {
     "name": "stdout",
     "output_type": "stream",
     "text": [
      "\n",
      "\n",
      "\u001b[1m> Entering new AgentExecutor chain...\u001b[0m\n",
      "\u001b[32;1m\u001b[1;3m\n",
      "Invoking: `StockMarketSymbolSearchTool` with `{'query': 'Cloudflare stock market symbol'}`\n",
      "\n",
      "\n",
      "\u001b[0m\u001b[36;1m\u001b[1;3mCloudflare Q2 Earnings Highlights: Revenue Beat, EPS Beat, Guidance Shines. Cloud connectivity company Cloudflare Inc NET reported second-quarter revenue of $401.0 million, up 30% year-over-year. The revenue beat a Street consensus estimate of $394.69 million, according to da... 5 weeks ago - Benzinga. The latest Cloudflare stock prices, stock quotes, news, and NET history to help you invest and trade smarter. ... Cloudflare's market capitalization is $22.59 B by 303.68 M shares outstanding ... Should You Buy or Sell Cloudflare Stock? Get The Latest NET Stock Analysis, Price Target, Earnings Estimates, Headlines, and Short Interest at MarketBeat. ... Current Symbol NYSE:NET. CUSIP N/A. CIK 1477333. Web www.cloudflare.com. Phone 888-993-5273. Fax N/A. Employees 3,682. Year Founded ... posing a challenge for Cloudflare's market share. Real-time Cloudflare stock price (NYSE: NET) plus other valuable data points like day range, year, stock analyst insights, related news and more. Stock analysis for Cloudflare Inc (NET:New York) including stock price, stock chart, company news, key statistics, fundamentals and company profile.\u001b[0m\u001b[32;1m\u001b[1;3mCloudflare's stock market symbol is NYSE:NET. \n",
      "\n",
      "Cloudflare reported second-quarter revenue of $401.0 million, which is a 30% increase year-over-year. The revenue beat the Street consensus estimate of $394.69 million. Cloudflare's market capitalization is $22.59 billion with 303.68 million shares outstanding.\n",
      "\n",
      "To analyze if Cloudflare is a potential good investment, we can consider factors such as the company's financial performance, growth prospects, competitive position, and market trends. It's important to conduct a thorough analysis of the company's financial statements, industry trends, and future outlook before making an investment decision. Additionally, consulting with a financial advisor or conducting further research on Cloudflare's stock performance can provide valuable insights for investment considerations.\u001b[0m\n",
      "\n",
      "\u001b[1m> Finished chain.\u001b[0m\n"
     ]
    },
    {
     "data": {
      "text/plain": [
       "{'input': \"Give me information on Cloudflare's stock and help me analyze if it's a potential good investment. Also tell me what symbol does the stock have.\",\n",
       " 'output': \"Cloudflare's stock market symbol is NYSE:NET. \\n\\nCloudflare reported second-quarter revenue of $401.0 million, which is a 30% increase year-over-year. The revenue beat the Street consensus estimate of $394.69 million. Cloudflare's market capitalization is $22.59 billion with 303.68 million shares outstanding.\\n\\nTo analyze if Cloudflare is a potential good investment, we can consider factors such as the company's financial performance, growth prospects, competitive position, and market trends. It's important to conduct a thorough analysis of the company's financial statements, industry trends, and future outlook before making an investment decision. Additionally, consulting with a financial advisor or conducting further research on Cloudflare's stock performance can provide valuable insights for investment considerations.\"}"
      ]
     },
     "execution_count": 1,
     "metadata": {},
     "output_type": "execute_result"
    }
   ],
   "source": [
    "from typing import Any, Type\n",
    "from langchain.chat_models import ChatOpenAI\n",
    "from langchain.tools import BaseTool\n",
    "from pydantic import BaseModel, Field\n",
    "from langchain.agents import initialize_agent, AgentType\n",
    "from langchain.utilities import DuckDuckGoSearchAPIWrapper\n",
    "\n",
    "llm = ChatOpenAI(temperature=0.1)\n",
    "\n",
    "\n",
    "class StockMarketSymbolSearchToolArgsSchema(BaseModel):\n",
    "    query: str = Field(\n",
    "        description=\"The query you will search for.Example query: Stock Market Symbol for Apple Company\"\n",
    "    )\n",
    "\n",
    "\n",
    "class StockMarketSymbolSearchTool(BaseTool):\n",
    "    name = \"StockMarketSymbolSearchTool\"\n",
    "    description = \"\"\"\n",
    "    Use this tool to find the stock market symbol for a company.\n",
    "    It takes a query as an argument.\n",
    "    \n",
    "    \"\"\"\n",
    "    args_schema: Type[\n",
    "        StockMarketSymbolSearchToolArgsSchema\n",
    "    ] = StockMarketSymbolSearchToolArgsSchema\n",
    "\n",
    "    def _run(self, query):\n",
    "        ddg = DuckDuckGoSearchAPIWrapper()\n",
    "        return ddg.run(query)\n",
    "\n",
    "\n",
    "agent = initialize_agent(\n",
    "    llm=llm,\n",
    "    verbose=True,\n",
    "    agent=AgentType.OPENAI_FUNCTIONS,\n",
    "    handle_parsing_errors=True,\n",
    "    tools=[\n",
    "        StockMarketSymbolSearchTool(),\n",
    "    ],\n",
    ")\n",
    "\n",
    "prompt = \"Give me information on Cloudflare's stock and help me analyze if it's a potential good investment. Also tell me what symbol does the stock have.\"\n",
    "\n",
    "agent.invoke(prompt)"
   ]
  }
 ],
 "metadata": {
  "kernelspec": {
   "display_name": "env",
   "language": "python",
   "name": "python3"
  },
  "language_info": {
   "codemirror_mode": {
    "name": "ipython",
    "version": 3
   },
   "file_extension": ".py",
   "mimetype": "text/x-python",
   "name": "python",
   "nbconvert_exporter": "python",
   "pygments_lexer": "ipython3",
   "version": "3.11.6"
  }
 },
 "nbformat": 4,
 "nbformat_minor": 2
}
