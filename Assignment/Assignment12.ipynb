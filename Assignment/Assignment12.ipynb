{
 "cells": [
  {
   "cell_type": "code",
   "execution_count": null,
   "metadata": {},
   "outputs": [],
   "source": [
    "# from langchain.memory import ConversationSummaryBufferMemory\n",
    "# from langchain.chat_models import ChatOpenAI\n",
    "# from langchain.schema.runnable import RunnablePassthrough\n",
    "# from langchain.prompts import  ChatPromptTemplate, FewShotPromptTemplate,PromptTemplate ,MessagesPlaceholder\n",
    "\n",
    "\n",
    "# llm = ChatOpenAI(temperature=0.1)\n",
    "\n",
    "# memory = ConversationSummaryBufferMemory(\n",
    "#     llm=llm,\n",
    "#     max_token_limit=120,\n",
    "#     return_messages=True,\n",
    "#     k = 1\n",
    "# )\n",
    "\n",
    "# examples = [\n",
    "#     {\n",
    "#         \"movie\": \"탑건\",\n",
    "#         \"answer\": \"🛩️👨‍✈️🔥\"\n",
    "#     },\n",
    "#     {\n",
    "#         \"movie\": \"대부\",\n",
    "#         \"answer\": \"👨‍👨‍👦🔫🍝\"\n",
    "#     }\n",
    "# ]\n",
    "\n",
    "# example_prompt = PromptTemplate.from_template(\n",
    "#     \"Human: Express the movie {movie} using 3 emojis. AI: {answer}\"\n",
    "# )\n",
    "\n",
    "# few_shot_prompt = FewShotPromptTemplate(\n",
    "#     example_prompt=example_prompt,\n",
    "#     examples=examples,\n",
    "#     suffix=\"Human: Express the movie {movie} using 3 emojis. \",\n",
    "#     input_variables=[\"movie\"]\n",
    "# )\n",
    "\n",
    "# prompt = ChatPromptTemplate.from_messages([\n",
    "#     (\"system\", \"You are a helpful AI that summarizes movies using exactly three emojis.\"),\n",
    "#         MessagesPlaceholder(variable_name=\"history\"),\n",
    "#         (\"human\", \"{movie}\"),\n",
    "# ])\n",
    "\n",
    "\n",
    "# def load_memory(_):\n",
    "#     return memory.load_memory_variables({})[\"history\"]\n",
    "\n",
    "\n",
    "# chain = RunnablePassthrough.assign(history=load_memory) | prompt | llm\n",
    "\n",
    "\n",
    "# def invoke_chain(movie):\n",
    "#     result = chain.invoke({\"movie\": movie})\n",
    "#     memory.save_context(\n",
    "#         {\"input\": movie},\n",
    "#         {\"output\": result.content},\n",
    "#     )\n",
    "#     print(result)\n",
    "\n"
   ]
  },
  {
   "cell_type": "code",
   "execution_count": null,
   "metadata": {},
   "outputs": [],
   "source": [
    "# invoke_chain(\"탑건\")"
   ]
  },
  {
   "cell_type": "code",
   "execution_count": null,
   "metadata": {},
   "outputs": [],
   "source": [
    "# invoke_chain(\"대부\")"
   ]
  },
  {
   "cell_type": "code",
   "execution_count": null,
   "metadata": {},
   "outputs": [],
   "source": [
    "# invoke_chain(\"The Avengers\")"
   ]
  },
  {
   "cell_type": "code",
   "execution_count": null,
   "metadata": {},
   "outputs": [],
   "source": [
    "# invoke_chain(\"Inception\")"
   ]
  },
  {
   "cell_type": "code",
   "execution_count": null,
   "metadata": {},
   "outputs": [],
   "source": [
    "# def check_movie():\n",
    "#     history = load_memory(_)\n",
    "#     print(\"앞의 영화 : \")\n",
    "#     print(history)\n",
    "\n",
    "# check_movie()"
   ]
  },
  {
   "cell_type": "code",
   "execution_count": 1,
   "metadata": {},
   "outputs": [],
   "source": [
    "from langchain.memory import ConversationBufferMemory\n",
    "from langchain.chat_models import ChatOpenAI\n",
    "from langchain.schema.runnable import RunnablePassthrough\n",
    "from langchain.prompts import ChatPromptTemplate, MessagesPlaceholder\n",
    "from langchain.prompts.few_shot import FewShotChatMessagePromptTemplate\n",
    "\n",
    "llm = ChatOpenAI(temperature=0)\n",
    "\n",
    "memory = ConversationBufferMemory(\n",
    "    llm=llm,\n",
    "    return_messages=True,\n",
    ")"
   ]
  },
  {
   "cell_type": "code",
   "execution_count": 3,
   "metadata": {},
   "outputs": [],
   "source": [
    "examples = [\n",
    "    {\n",
    "        \"question\": \"Spider Man\",\n",
    "        \"answer\": \"🕷️🕸️🗽\",\n",
    "    },\n",
    "    {\n",
    "        \"question\": \"Iron Man\",\n",
    "        \"answer\": \"🦾🕶️🔥\",\n",
    "    },\n",
    "    {\n",
    "        \"question\": \"Thor\",\n",
    "        \"answer\": \"⚡️🔨🌩️\",\n",
    "    },\n",
    "]"
   ]
  },
  {
   "cell_type": "code",
   "execution_count": 4,
   "metadata": {},
   "outputs": [],
   "source": [
    "example_prompt = ChatPromptTemplate.from_messages(\n",
    "    [(\"human\", \"{question}\"), (\"ai\", \"{answer}\")]\n",
    ")\n",
    "\n",
    "fewshot_chat_prompt = FewShotChatMessagePromptTemplate(\n",
    "    example_prompt=example_prompt,\n",
    "    examples=examples,\n",
    ")\n",
    "\n",
    "final_prompt = ChatPromptTemplate.from_messages(\n",
    "    [\n",
    "        (\n",
    "            \"system\",\n",
    "            \"You are a movie expert. You know every movie. If a human tells you the title of the movie, you have to respond with 3 emoticons.\",\n",
    "        ),\n",
    "        fewshot_chat_prompt,\n",
    "        (\n",
    "            \"system\",\n",
    "            \"The above examples should not be provided to the user. The user can only be provided with the conversation record below. Please provide the information to the user using the record below.\",\n",
    "        ),\n",
    "        MessagesPlaceholder(variable_name=\"history\"),\n",
    "        (\"human\", \"{question}\"),\n",
    "    ]\n",
    ")"
   ]
  },
  {
   "cell_type": "code",
   "execution_count": 5,
   "metadata": {},
   "outputs": [],
   "source": [
    "def load_memory(_):\n",
    "    return memory.load_memory_variables({})[\"history\"]\n",
    "\n",
    "\n",
    "chain = RunnablePassthrough.assign(history=load_memory) | final_prompt | llm\n",
    "\n",
    "\n",
    "def invoke_chain(question):\n",
    "    result = chain.invoke({\"question\": question})\n",
    "    memory.save_context({\"input\": question}, {\"output\": result.content})\n",
    "    print(result)"
   ]
  },
  {
   "cell_type": "code",
   "execution_count": 6,
   "metadata": {},
   "outputs": [
    {
     "name": "stdout",
     "output_type": "stream",
     "text": [
      "content='🇺🇸⭐️🛡️'\n",
      "content='🕶️💣🔍'\n"
     ]
    }
   ],
   "source": [
    "invoke_chain(\"Captain America\")\n",
    "invoke_chain(\"Mission Impossible\")"
   ]
  },
  {
   "cell_type": "code",
   "execution_count": 7,
   "metadata": {},
   "outputs": [
    {
     "name": "stdout",
     "output_type": "stream",
     "text": [
      "content='You asked about \"Captain America.\"'\n"
     ]
    }
   ],
   "source": [
    "invoke_chain(\"What was the first movie I asked?\")"
   ]
  }
 ],
 "metadata": {
  "kernelspec": {
   "display_name": "env",
   "language": "python",
   "name": "python3"
  },
  "language_info": {
   "codemirror_mode": {
    "name": "ipython",
    "version": 3
   },
   "file_extension": ".py",
   "mimetype": "text/x-python",
   "name": "python",
   "nbconvert_exporter": "python",
   "pygments_lexer": "ipython3",
   "version": "3.11.6"
  }
 },
 "nbformat": 4,
 "nbformat_minor": 2
}
