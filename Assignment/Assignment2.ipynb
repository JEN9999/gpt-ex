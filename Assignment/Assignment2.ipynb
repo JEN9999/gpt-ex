{
 "cells": [
  {
   "cell_type": "code",
   "execution_count": 16,
   "metadata": {},
   "outputs": [
    {
     "name": "stdout",
     "output_type": "stream",
     "text": [
      "\n",
      "    감독: 연상호\n",
      "    주요 출연진: 공유, 정유미, 마동석\n",
      "    예산: 약 20억 원\n",
      "    흥행 수익: 약 93억 원\n",
      "    장르: 액션, 스릴러\n",
      "    시놉시스: 전국적인 좀비 바이러스 감염으로 인해 기차를 타고 부산으로 향하는 사람들의 생존을 그린 영화."
     ]
    },
    {
     "data": {
      "text/plain": [
       "AIMessageChunk(content='\\n    감독: 연상호\\n    주요 출연진: 공유, 정유미, 마동석\\n    예산: 약 20억 원\\n    흥행 수익: 약 93억 원\\n    장르: 액션, 스릴러\\n    시놉시스: 전국적인 좀비 바이러스 감염으로 인해 기차를 타고 부산으로 향하는 사람들의 생존을 그린 영화.')"
      ]
     },
     "execution_count": 16,
     "metadata": {},
     "output_type": "execute_result"
    }
   ],
   "source": [
    "from langchain.chat_models import ChatOpenAI\n",
    "from langchain import PromptTemplate, FewShotPromptTemplate\n",
    "from langchain.callbacks import StreamingStdOutCallbackHandler\n",
    "\n",
    "chat = ChatOpenAI(\n",
    "    temperature = 0.1,\n",
    "    streaming = True,\n",
    "    callbacks=[\n",
    "        StreamingStdOutCallbackHandler(),\n",
    "    ]\n",
    ")\n",
    "\n",
    "examples = [\n",
    "    {\n",
    "        \"movie_name\": \"기생충\",\n",
    "        \"director\": \"봉준호\",\n",
    "        \"cast\" : \"송강호, 이선균, 조여정, 최우식, 박소담\",\n",
    "        \"budget\": \"약 130억 원\",\n",
    "        \"box_office\" :\"약 3,100억 원\",\n",
    "        \"genre\" : \"드라마, 스릴러\",\n",
    "        \"synopsis\" : \"기택의 가족은 전원이 백수로 생활고를 겪고 있다. 큰아들 기우는 친구의 소개로 부잣집 과외교사로 들어가며, 두 가족이 엮이게 된다.\",\n",
    "    },\n",
    "    {\n",
    "        \"movie_name\": \"올드보이\",\n",
    "        \"director\": \"박찬욱\",\n",
    "        \"cast\": \"최민식, 유지태, 강혜정\",\n",
    "        \"budget\": \"약 35억 원\",\n",
    "        \"box_office\": \"약 175억 원\",\n",
    "        \"genre\": \"스릴러, 미스터리\",\n",
    "        \"synopsis\": \"15년간 이유도 모른 채 감금된 오대수는 갑자기 풀려나게 되고, 자신을 감금한 자를 찾아 복수를 시작한다.\"\n",
    "    },\n",
    "\n",
    "]\n",
    "\n",
    "\n",
    "examples_prompt = PromptTemplate.from_template(\n",
    "    template=\"\"\"\n",
    "    영화 이름: {movie_name}\n",
    "    감독: {director}\n",
    "    주요 출연진: {cast}\n",
    "    예산: {budget}\n",
    "    흥행 수익: {box_office}\n",
    "    장르: {genre}\n",
    "    시놉시스: {synopsis}\n",
    "    \"\"\"\n",
    ")\n",
    "\n",
    "prompt = FewShotPromptTemplate(\n",
    "    example_prompt= examples_prompt,\n",
    "    examples = examples,\n",
    "    suffix = \"영화 제목 : {input_movie_name}\",\n",
    "    input_variables=[\"input_movie_name\"]\n",
    ")\n",
    "\n",
    "chain = prompt | chat\n",
    "\n",
    "chain.invoke({\n",
    "    \"input_movie_name\" : \"부산행\"\n",
    "})"
   ]
  }
 ],
 "metadata": {
  "kernelspec": {
   "display_name": "env",
   "language": "python",
   "name": "python3"
  },
  "language_info": {
   "codemirror_mode": {
    "name": "ipython",
    "version": 3
   },
   "file_extension": ".py",
   "mimetype": "text/x-python",
   "name": "python",
   "nbconvert_exporter": "python",
   "pygments_lexer": "ipython3",
   "version": "3.11.6"
  }
 },
 "nbformat": 4,
 "nbformat_minor": 2
}
